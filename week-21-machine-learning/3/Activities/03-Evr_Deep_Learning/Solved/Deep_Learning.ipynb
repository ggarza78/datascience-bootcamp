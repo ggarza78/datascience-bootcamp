{
 "cells": [
  {
   "cell_type": "code",
   "execution_count": 1,
   "metadata": {},
   "outputs": [],
   "source": [
    "# Set the seed value for the notebook so the results are reproducible\n",
    "from numpy.random import seed\n",
    "seed(1)\n",
    "from tensorflow import random\n",
    "random.set_seed(1)"
   ]
  },
  {
   "cell_type": "code",
   "execution_count": 2,
   "metadata": {},
   "outputs": [],
   "source": [
    "%matplotlib inline\n",
    "import matplotlib.pyplot as plt\n",
    "import numpy as np\n",
    "import sklearn\n",
    "import sklearn.datasets"
   ]
  },
  {
   "cell_type": "code",
   "execution_count": 13,
   "metadata": {},
   "outputs": [],
   "source": [
    "# Create Data\n",
    "X, y = sklearn.datasets.make_circles(noise=0.2, factor=.2, random_state=1)"
   ]
  },
  {
   "cell_type": "code",
   "execution_count": 14,
   "metadata": {},
   "outputs": [
    {
     "data": {
      "text/plain": [
       "<matplotlib.collections.PathCollection at 0x225e40640c8>"
      ]
     },
     "execution_count": 14,
     "metadata": {},
     "output_type": "execute_result"
    },
    {
     "data": {
      "image/png": "[encoded data removed]",
      "text/plain": [
       "<Figure size 432x288 with 1 Axes>"
      ]
     },
     "metadata": {
      "needs_background": "light"
     },
     "output_type": "display_data"
    }
   ],
   "source": [
    "# Visualize Data\n",
    "plt.scatter(X[:, 0], X[:, 1], c=y)"
   ]
  },
  {
   "cell_type": "code",
   "execution_count": 15,
   "metadata": {
    "nbgrader": {
     "grade": false,
     "grade_id": "cell-25fb99ba413a3271",
     "locked": false,
     "schema_version": 1,
     "solution": true
    }
   },
   "outputs": [],
   "source": [
    "# Use train_test_split to create training and testing data\n",
    "from sklearn.model_selection import train_test_split\n",
    "\n",
    "X_train, X_test, y_train, y_test = train_test_split(X, y, random_state=1)"
   ]
  },
  {
   "cell_type": "code",
   "execution_count": 16,
   "metadata": {
    "nbgrader": {
     "grade": false,
     "grade_id": "cell-7e1de5d9b7942f68",
     "locked": false,
     "schema_version": 1,
     "solution": true
    }
   },
   "outputs": [],
   "source": [
    "from sklearn.preprocessing import StandardScaler\n",
    "\n",
    "# Create a StandardScater model and fit it to the training data\n",
    "X_scaler = StandardScaler().fit(X_train)"
   ]
  },
  {
   "cell_type": "code",
   "execution_count": 17,
   "metadata": {
    "nbgrader": {
     "grade": false,
     "grade_id": "cell-9532e12246e485d5",
     "locked": false,
     "schema_version": 1,
     "solution": true
    }
   },
   "outputs": [],
   "source": [
    "# Transform the training and testing data using the X_scaler\n",
    "\n",
    "X_train_scaled = X_scaler.transform(X_train)\n",
    "X_test_scaled = X_scaler.transform(X_test)"
   ]
  },
  {
   "cell_type": "code",
   "execution_count": 18,
   "metadata": {},
   "outputs": [],
   "source": [
    "from tensorflow.keras.utils import to_categorical"
   ]
  },
  {
   "cell_type": "code",
   "execution_count": 19,
   "metadata": {},
   "outputs": [],
   "source": [
    "# One-hot encoding\n",
    "y_train_categorical = to_categorical(y_train)\n",
    "y_test_categorical = to_categorical(y_test)"
   ]
  },
  {
   "cell_type": "code",
   "execution_count": 20,
   "metadata": {
    "nbgrader": {
     "grade": false,
     "grade_id": "cell-ec399a95e133cb58",
     "locked": false,
     "schema_version": 1,
     "solution": true
    }
   },
   "outputs": [],
   "source": [
    "# first, create a normal neural network with 2 inputs, 6 hidden nodes, and 2 outputs\n",
    "from tensorflow.keras.models import Sequential\n",
    "from tensorflow.keras.layers import Dense\n",
    "\n",
    "model = Sequential()\n",
    "model.add(Dense(units=6, activation='relu', input_dim=2))\n",
    "model.add(Dense(units=2, activation='softmax'))"
   ]
  },
  {
   "cell_type": "code",
   "execution_count": 21,
   "metadata": {},
   "outputs": [
    {
     "name": "stdout",
     "output_type": "stream",
     "text": [
      "Model: \"sequential\"\n",
      "_________________________________________________________________\n",
      "Layer (type)                 Output Shape              Param #   \n",
      "=================================================================\n",
      "dense (Dense)                (None, 6)                 18        \n",
      "_________________________________________________________________\n",
      "dense_1 (Dense)              (None, 2)                 14        \n",
      "=================================================================\n",
      "Total params: 32\n",
      "Trainable params: 32\n",
      "Non-trainable params: 0\n",
      "_________________________________________________________________\n"
     ]
    }
   ],
   "source": [
    "model.summary()"
   ]
  },
  {
   "cell_type": "code",
   "execution_count": 22,
   "metadata": {},
   "outputs": [],
   "source": [
    "# Compile the model\n",
    "model.compile(optimizer='adam',\n",
    "              loss='categorical_crossentropy',\n",
    "              metrics=['accuracy'])"
   ]
  },
  {
   "cell_type": "code",
   "execution_count": 23,
   "metadata": {
    "nbgrader": {
     "grade": false,
     "grade_id": "cell-5cf2fbdbea0ed50b",
     "locked": false,
     "schema_version": 1,
     "solution": true
    }
   },
   "outputs": [
    {
     "name": "stdout",
     "output_type": "stream",
     "text": [
      "Epoch 1/100\n",
      "3/3 [==============================] - 0s 994us/step - loss: 0.8287 - accuracy: 0.4800\n",
      "Epoch 2/100\n",
      "3/3 [==============================] - 0s 997us/step - loss: 0.8237 - accuracy: 0.4800\n",
      "Epoch 3/100\n",
      "3/3 [==============================] - 0s 997us/step - loss: 0.8182 - accuracy: 0.4800\n",
      "Epoch 4/100\n",
      "3/3 [==============================] - 0s 996us/step - loss: 0.8140 - accuracy: 0.4533\n",
      "Epoch 5/100\n",
      "3/3 [==============================] - 0s 998us/step - loss: 0.8092 - accuracy: 0.4133\n",
      "Epoch 6/100\n",
      "3/3 [==============================] - 0s 2ms/step - loss: 0.8049 - accuracy: 0.4000\n",
      "Epoch 7/100\n",
      "3/3 [==============================] - 0s 2ms/step - loss: 0.8001 - accuracy: 0.3733\n",
      "Epoch 8/100\n",
      "3/3 [==============================] - 0s 3ms/step - loss: 0.7969 - accuracy: 0.3600\n",
      "Epoch 9/100\n",
      "3/3 [==============================] - 0s 2ms/step - loss: 0.7924 - accuracy: 0.3733\n",
      "Epoch 10/100\n",
      "3/3 [==============================] - 0s 2ms/step - loss: 0.7889 - accuracy: 0.3600\n",
      "Epoch 11/100\n",
      "3/3 [==============================] - 0s 2ms/step - loss: 0.7852 - accuracy: 0.3467\n",
      "Epoch 12/100\n",
      "3/3 [==============================] - 0s 1ms/step - loss: 0.7811 - accuracy: 0.3600\n",
      "Epoch 13/100\n",
      "3/3 [==============================] - 0s 2ms/step - loss: 0.7781 - accuracy: 0.3467\n",
      "Epoch 14/100\n",
      "3/3 [==============================] - 0s 1ms/step - loss: 0.7746 - accuracy: 0.3333\n",
      "Epoch 15/100\n",
      "3/3 [==============================] - 0s 2ms/step - loss: 0.7709 - accuracy: 0.3067\n",
      "Epoch 16/100\n",
      "3/3 [==============================] - 0s 997us/step - loss: 0.7681 - accuracy: 0.2933\n",
      "Epoch 17/100\n",
      "3/3 [==============================] - 0s 2ms/step - loss: 0.7643 - accuracy: 0.3067\n",
      "Epoch 18/100\n",
      "3/3 [==============================] - 0s 1ms/step - loss: 0.7615 - accuracy: 0.2933\n",
      "Epoch 19/100\n",
      "3/3 [==============================] - 0s 2ms/step - loss: 0.7588 - accuracy: 0.2933\n",
      "Epoch 20/100\n",
      "3/3 [==============================] - 0s 2ms/step - loss: 0.7556 - accuracy: 0.3200\n",
      "Epoch 21/100\n",
      "3/3 [==============================] - 0s 2ms/step - loss: 0.7531 - accuracy: 0.3333\n",
      "Epoch 22/100\n",
      "3/3 [==============================] - 0s 998us/step - loss: 0.7505 - accuracy: 0.3333\n",
      "Epoch 23/100\n",
      "3/3 [==============================] - 0s 2ms/step - loss: 0.7475 - accuracy: 0.3333\n",
      "Epoch 24/100\n",
      "3/3 [==============================] - 0s 998us/step - loss: 0.7455 - accuracy: 0.3333\n",
      "Epoch 25/100\n",
      "3/3 [==============================] - 0s 2ms/step - loss: 0.7428 - accuracy: 0.3333\n",
      "Epoch 26/100\n",
      "3/3 [==============================] - 0s 2ms/step - loss: 0.7401 - accuracy: 0.3467\n",
      "Epoch 27/100\n",
      "3/3 [==============================] - 0s 2ms/step - loss: 0.7377 - accuracy: 0.3467\n",
      "Epoch 28/100\n",
      "3/3 [==============================] - 0s 999us/step - loss: 0.7354 - accuracy: 0.3467\n",
      "Epoch 29/100\n",
      "3/3 [==============================] - 0s 997us/step - loss: 0.7331 - accuracy: 0.3600\n",
      "Epoch 30/100\n",
      "3/3 [==============================] - 0s 997us/step - loss: 0.7310 - accuracy: 0.3733\n",
      "Epoch 31/100\n",
      "3/3 [==============================] - 0s 997us/step - loss: 0.7288 - accuracy: 0.3733\n",
      "Epoch 32/100\n",
      "3/3 [==============================] - 0s 2ms/step - loss: 0.7268 - accuracy: 0.3733\n",
      "Epoch 33/100\n",
      "3/3 [==============================] - 0s 2ms/step - loss: 0.7250 - accuracy: 0.3867\n",
      "Epoch 34/100\n",
      "3/3 [==============================] - 0s 2ms/step - loss: 0.7230 - accuracy: 0.3867\n",
      "Epoch 35/100\n",
      "3/3 [==============================] - 0s 2ms/step - loss: 0.7210 - accuracy: 0.3867\n",
      "Epoch 36/100\n",
      "3/3 [==============================] - 0s 998us/step - loss: 0.7191 - accuracy: 0.3867\n",
      "Epoch 37/100\n",
      "3/3 [==============================] - 0s 995us/step - loss: 0.7174 - accuracy: 0.3867\n",
      "Epoch 38/100\n",
      "3/3 [==============================] - 0s 2ms/step - loss: 0.7153 - accuracy: 0.3867\n",
      "Epoch 39/100\n",
      "3/3 [==============================] - 0s 2ms/step - loss: 0.7137 - accuracy: 0.3867\n",
      "Epoch 40/100\n",
      "3/3 [==============================] - 0s 2ms/step - loss: 0.7117 - accuracy: 0.4000\n",
      "Epoch 41/100\n",
      "3/3 [==============================] - 0s 1ms/step - loss: 0.7099 - accuracy: 0.4000\n",
      "Epoch 42/100\n",
      "3/3 [==============================] - 0s 2ms/step - loss: 0.7082 - accuracy: 0.4133\n",
      "Epoch 43/100\n",
      "3/3 [==============================] - 0s 1ms/step - loss: 0.7064 - accuracy: 0.4133\n",
      "Epoch 44/100\n",
      "3/3 [==============================] - 0s 2ms/step - loss: 0.7047 - accuracy: 0.4000\n",
      "Epoch 45/100\n",
      "3/3 [==============================] - 0s 2ms/step - loss: 0.7030 - accuracy: 0.4000\n",
      "Epoch 46/100\n",
      "3/3 [==============================] - 0s 997us/step - loss: 0.7014 - accuracy: 0.4000\n",
      "Epoch 47/100\n",
      "3/3 [==============================] - 0s 3ms/step - loss: 0.6998 - accuracy: 0.4133\n",
      "Epoch 48/100\n",
      "3/3 [==============================] - 0s 997us/step - loss: 0.6981 - accuracy: 0.4133\n",
      "Epoch 49/100\n",
      "3/3 [==============================] - 0s 2ms/step - loss: 0.6965 - accuracy: 0.4133\n",
      "Epoch 50/100\n",
      "3/3 [==============================] - 0s 2ms/step - loss: 0.6948 - accuracy: 0.4000\n",
      "Epoch 51/100\n",
      "3/3 [==============================] - 0s 2ms/step - loss: 0.6931 - accuracy: 0.4000\n",
      "Epoch 52/100\n",
      "3/3 [==============================] - 0s 1ms/step - loss: 0.6917 - accuracy: 0.4000\n",
      "Epoch 53/100\n",
      "3/3 [==============================] - 0s 997us/step - loss: 0.6902 - accuracy: 0.4000\n",
      "Epoch 54/100\n",
      "3/3 [==============================] - 0s 1ms/step - loss: 0.6887 - accuracy: 0.3867\n",
      "Epoch 55/100\n",
      "3/3 [==============================] - 0s 1ms/step - loss: 0.6872 - accuracy: 0.3867\n",
      "Epoch 56/100\n",
      "3/3 [==============================] - 0s 2ms/step - loss: 0.6858 - accuracy: 0.3867\n",
      "Epoch 57/100\n",
      "3/3 [==============================] - 0s 1ms/step - loss: 0.6842 - accuracy: 0.3867\n",
      "Epoch 58/100\n",
      "3/3 [==============================] - 0s 2ms/step - loss: 0.6828 - accuracy: 0.3867\n",
      "Epoch 59/100\n",
      "3/3 [==============================] - 0s 664us/step - loss: 0.6813 - accuracy: 0.3867\n",
      "Epoch 60/100\n",
      "3/3 [==============================] - 0s 997us/step - loss: 0.6800 - accuracy: 0.3867\n",
      "Epoch 61/100\n",
      "3/3 [==============================] - 0s 2ms/step - loss: 0.6784 - accuracy: 0.3867\n",
      "Epoch 62/100\n",
      "3/3 [==============================] - 0s 2ms/step - loss: 0.6770 - accuracy: 0.3867\n",
      "Epoch 63/100\n",
      "3/3 [==============================] - 0s 1ms/step - loss: 0.6756 - accuracy: 0.3867\n",
      "Epoch 64/100\n",
      "3/3 [==============================] - 0s 664us/step - loss: 0.6742 - accuracy: 0.4000\n",
      "Epoch 65/100\n",
      "3/3 [==============================] - 0s 998us/step - loss: 0.6728 - accuracy: 0.4000\n",
      "Epoch 66/100\n",
      "3/3 [==============================] - 0s 2ms/step - loss: 0.6713 - accuracy: 0.4133\n",
      "Epoch 67/100\n",
      "3/3 [==============================] - 0s 998us/step - loss: 0.6700 - accuracy: 0.4400\n",
      "Epoch 68/100\n",
      "3/3 [==============================] - 0s 997us/step - loss: 0.6686 - accuracy: 0.4533\n",
      "Epoch 69/100\n",
      "3/3 [==============================] - 0s 997us/step - loss: 0.6672 - accuracy: 0.4533\n",
      "Epoch 70/100\n",
      "3/3 [==============================] - 0s 665us/step - loss: 0.6658 - accuracy: 0.4667\n",
      "Epoch 71/100\n",
      "3/3 [==============================] - 0s 997us/step - loss: 0.6644 - accuracy: 0.4800\n",
      "Epoch 72/100\n",
      "3/3 [==============================] - 0s 2ms/step - loss: 0.6631 - accuracy: 0.4933\n",
      "Epoch 73/100\n",
      "3/3 [==============================] - 0s 2ms/step - loss: 0.6617 - accuracy: 0.4933\n",
      "Epoch 74/100\n",
      "3/3 [==============================] - 0s 998us/step - loss: 0.6603 - accuracy: 0.4933\n",
      "Epoch 75/100\n",
      "3/3 [==============================] - 0s 998us/step - loss: 0.6591 - accuracy: 0.5067\n",
      "Epoch 76/100\n",
      "3/3 [==============================] - 0s 997us/step - loss: 0.6577 - accuracy: 0.5333\n",
      "Epoch 77/100\n",
      "3/3 [==============================] - 0s 998us/step - loss: 0.6564 - accuracy: 0.5467\n",
      "Epoch 78/100\n",
      "3/3 [==============================] - 0s 2ms/step - loss: 0.6550 - accuracy: 0.5333\n",
      "Epoch 79/100\n",
      "3/3 [==============================] - 0s 2ms/step - loss: 0.6538 - accuracy: 0.5333\n",
      "Epoch 80/100\n",
      "3/3 [==============================] - 0s 998us/step - loss: 0.6525 - accuracy: 0.5333\n",
      "Epoch 81/100\n",
      "3/3 [==============================] - 0s 2ms/step - loss: 0.6513 - accuracy: 0.5467\n",
      "Epoch 82/100\n",
      "3/3 [==============================] - 0s 997us/step - loss: 0.6501 - accuracy: 0.5600\n",
      "Epoch 83/100\n",
      "3/3 [==============================] - 0s 999us/step - loss: 0.6489 - accuracy: 0.5733\n",
      "Epoch 84/100\n",
      "3/3 [==============================] - 0s 2ms/step - loss: 0.6477 - accuracy: 0.5867\n",
      "Epoch 85/100\n",
      "3/3 [==============================] - 0s 1ms/step - loss: 0.6465 - accuracy: 0.5867\n",
      "Epoch 86/100\n",
      "3/3 [==============================] - 0s 1ms/step - loss: 0.6453 - accuracy: 0.5733\n",
      "Epoch 87/100\n",
      "3/3 [==============================] - 0s 1ms/step - loss: 0.6441 - accuracy: 0.5733\n",
      "Epoch 88/100\n",
      "3/3 [==============================] - 0s 997us/step - loss: 0.6428 - accuracy: 0.5733\n",
      "Epoch 89/100\n",
      "3/3 [==============================] - 0s 1ms/step - loss: 0.6417 - accuracy: 0.5733\n",
      "Epoch 90/100\n",
      "3/3 [==============================] - 0s 2ms/step - loss: 0.6405 - accuracy: 0.5733\n",
      "Epoch 91/100\n",
      "3/3 [==============================] - 0s 1ms/step - loss: 0.6392 - accuracy: 0.5600\n",
      "Epoch 92/100\n",
      "3/3 [==============================] - 0s 1ms/step - loss: 0.6381 - accuracy: 0.5600\n",
      "Epoch 93/100\n",
      "3/3 [==============================] - 0s 997us/step - loss: 0.6369 - accuracy: 0.5600\n",
      "Epoch 94/100\n",
      "3/3 [==============================] - 0s 997us/step - loss: 0.6357 - accuracy: 0.5600\n",
      "Epoch 95/100\n",
      "3/3 [==============================] - 0s 997us/step - loss: 0.6346 - accuracy: 0.5600\n",
      "Epoch 96/100\n",
      "3/3 [==============================] - 0s 2ms/step - loss: 0.6333 - accuracy: 0.5600\n",
      "Epoch 97/100\n",
      "3/3 [==============================] - 0s 1ms/step - loss: 0.6322 - accuracy: 0.5867\n",
      "Epoch 98/100\n",
      "3/3 [==============================] - 0s 663us/step - loss: 0.6310 - accuracy: 0.5733\n",
      "Epoch 99/100\n",
      "3/3 [==============================] - 0s 2ms/step - loss: 0.6298 - accuracy: 0.5733\n",
      "Epoch 100/100\n",
      "3/3 [==============================] - 0s 997us/step - loss: 0.6286 - accuracy: 0.5733\n"
     ]
    },
    {
     "data": {
      "text/plain": [
       "<tensorflow.python.keras.callbacks.History at 0x225eb70c148>"
      ]
     },
     "execution_count": 23,
     "metadata": {},
     "output_type": "execute_result"
    }
   ],
   "source": [
    "# Fit the model to the training data\n",
    "model.fit(\n",
    "    X_train_scaled,\n",
    "    y_train_categorical,\n",
    "    epochs=100,\n",
    "    shuffle=True,\n",
    "    verbose=1\n",
    ")"
   ]
  },
  {
   "cell_type": "markdown",
   "metadata": {},
   "source": [
    "# Deep Learning\n",
    "For this network, we simply add an additional hidden layer of 6 nodes"
   ]
  },
  {
   "cell_type": "code",
   "execution_count": 25,
   "metadata": {},
   "outputs": [],
   "source": [
    "deep_model = Sequential()\n",
    "deep_model.add(Dense(units=6, activation='relu', input_dim=2))\n",
    "deep_model.add(Dense(units=6, activation='relu'))\n",
    "deep_model.add(Dense(units=2, activation='softmax'))"
   ]
  },
  {
   "cell_type": "code",
   "execution_count": 26,
   "metadata": {},
   "outputs": [
    {
     "name": "stdout",
     "output_type": "stream",
     "text": [
      "Model: \"sequential_1\"\n",
      "_________________________________________________________________\n",
      "Layer (type)                 Output Shape              Param #   \n",
      "=================================================================\n",
      "dense_2 (Dense)              (None, 6)                 18        \n",
      "_________________________________________________________________\n",
      "dense_3 (Dense)              (None, 6)                 42        \n",
      "_________________________________________________________________\n",
      "dense_4 (Dense)              (None, 2)                 14        \n",
      "=================================================================\n",
      "Total params: 74\n",
      "Trainable params: 74\n",
      "Non-trainable params: 0\n",
      "_________________________________________________________________\n"
     ]
    }
   ],
   "source": [
    "deep_model.summary()"
   ]
  },
  {
   "cell_type": "code",
   "execution_count": 27,
   "metadata": {},
   "outputs": [
    {
     "name": "stdout",
     "output_type": "stream",
     "text": [
      "Epoch 1/100\n",
      "3/3 [==============================] - 0s 996us/step - loss: 0.7140 - accuracy: 0.5200\n",
      "Epoch 2/100\n",
      "3/3 [==============================] - 0s 994us/step - loss: 0.7110 - accuracy: 0.5333\n",
      "Epoch 3/100\n",
      "3/3 [==============================] - 0s 997us/step - loss: 0.7085 - accuracy: 0.4933\n",
      "Epoch 4/100\n",
      "3/3 [==============================] - 0s 995us/step - loss: 0.7058 - accuracy: 0.4533\n",
      "Epoch 5/100\n",
      "3/3 [==============================] - 0s 1ms/step - loss: 0.7035 - accuracy: 0.4267\n",
      "Epoch 6/100\n",
      "3/3 [==============================] - 0s 2ms/step - loss: 0.7012 - accuracy: 0.4000\n",
      "Epoch 7/100\n",
      "3/3 [==============================] - 0s 2ms/step - loss: 0.6986 - accuracy: 0.3867\n",
      "Epoch 8/100\n",
      "3/3 [==============================] - 0s 2ms/step - loss: 0.6968 - accuracy: 0.4000\n",
      "Epoch 9/100\n",
      "3/3 [==============================] - 0s 2ms/step - loss: 0.6946 - accuracy: 0.4133\n",
      "Epoch 10/100\n",
      "3/3 [==============================] - 0s 3ms/step - loss: 0.6929 - accuracy: 0.4133\n",
      "Epoch 11/100\n",
      "3/3 [==============================] - 0s 2ms/step - loss: 0.6909 - accuracy: 0.4133\n",
      "Epoch 12/100\n",
      "3/3 [==============================] - 0s 2ms/step - loss: 0.6888 - accuracy: 0.4267\n",
      "Epoch 13/100\n",
      "3/3 [==============================] - 0s 2ms/step - loss: 0.6871 - accuracy: 0.4533\n",
      "Epoch 14/100\n",
      "3/3 [==============================] - 0s 2ms/step - loss: 0.6852 - accuracy: 0.4400\n",
      "Epoch 15/100\n",
      "3/3 [==============================] - 0s 2ms/step - loss: 0.6832 - accuracy: 0.4400\n",
      "Epoch 16/100\n",
      "3/3 [==============================] - 0s 2ms/step - loss: 0.6816 - accuracy: 0.4267\n",
      "Epoch 17/100\n",
      "3/3 [==============================] - 0s 665us/step - loss: 0.6795 - accuracy: 0.4400\n",
      "Epoch 18/100\n",
      "3/3 [==============================] - 0s 2ms/step - loss: 0.6778 - accuracy: 0.4400\n",
      "Epoch 19/100\n",
      "3/3 [==============================] - 0s 1ms/step - loss: 0.6763 - accuracy: 0.4400\n",
      "Epoch 20/100\n",
      "3/3 [==============================] - 0s 3ms/step - loss: 0.6745 - accuracy: 0.4533\n",
      "Epoch 21/100\n",
      "3/3 [==============================] - 0s 2ms/step - loss: 0.6731 - accuracy: 0.4533\n",
      "Epoch 22/100\n",
      "3/3 [==============================] - 0s 1ms/step - loss: 0.6714 - accuracy: 0.4533\n",
      "Epoch 23/100\n",
      "3/3 [==============================] - 0s 998us/step - loss: 0.6698 - accuracy: 0.4533\n",
      "Epoch 24/100\n",
      "3/3 [==============================] - 0s 2ms/step - loss: 0.6685 - accuracy: 0.4533\n",
      "Epoch 25/100\n",
      "3/3 [==============================] - 0s 2ms/step - loss: 0.6670 - accuracy: 0.4533\n",
      "Epoch 26/100\n",
      "3/3 [==============================] - 0s 2ms/step - loss: 0.6654 - accuracy: 0.4533\n",
      "Epoch 27/100\n",
      "3/3 [==============================] - 0s 997us/step - loss: 0.6640 - accuracy: 0.4533\n",
      "Epoch 28/100\n",
      "3/3 [==============================] - 0s 998us/step - loss: 0.6626 - accuracy: 0.4667\n",
      "Epoch 29/100\n",
      "3/3 [==============================] - 0s 2ms/step - loss: 0.6613 - accuracy: 0.4667\n",
      "Epoch 30/100\n",
      "3/3 [==============================] - 0s 997us/step - loss: 0.6599 - accuracy: 0.4667\n",
      "Epoch 31/100\n",
      "3/3 [==============================] - 0s 2ms/step - loss: 0.6585 - accuracy: 0.4667\n",
      "Epoch 32/100\n",
      "3/3 [==============================] - 0s 2ms/step - loss: 0.6573 - accuracy: 0.4667\n",
      "Epoch 33/100\n",
      "3/3 [==============================] - 0s 997us/step - loss: 0.6560 - accuracy: 0.4667\n",
      "Epoch 34/100\n",
      "3/3 [==============================] - 0s 998us/step - loss: 0.6547 - accuracy: 0.4667\n",
      "Epoch 35/100\n",
      "3/3 [==============================] - 0s 2ms/step - loss: 0.6534 - accuracy: 0.4667\n",
      "Epoch 36/100\n",
      "3/3 [==============================] - 0s 2ms/step - loss: 0.6521 - accuracy: 0.4800\n",
      "Epoch 37/100\n",
      "3/3 [==============================] - 0s 996us/step - loss: 0.6509 - accuracy: 0.5467\n",
      "Epoch 38/100\n",
      "3/3 [==============================] - 0s 997us/step - loss: 0.6496 - accuracy: 0.5733\n",
      "Epoch 39/100\n",
      "3/3 [==============================] - ETA: 0s - loss: 0.6057 - accuracy: 0.65 - 0s 1ms/step - loss: 0.6484 - accuracy: 0.5733\n",
      "Epoch 40/100\n",
      "3/3 [==============================] - 0s 997us/step - loss: 0.6471 - accuracy: 0.5867\n",
      "Epoch 41/100\n",
      "3/3 [==============================] - 0s 2ms/step - loss: 0.6458 - accuracy: 0.6133\n",
      "Epoch 42/100\n",
      "3/3 [==============================] - 0s 2ms/step - loss: 0.6445 - accuracy: 0.6267\n",
      "Epoch 43/100\n",
      "3/3 [==============================] - 0s 2ms/step - loss: 0.6432 - accuracy: 0.6133\n",
      "Epoch 44/100\n",
      "3/3 [==============================] - 0s 664us/step - loss: 0.6420 - accuracy: 0.6267\n",
      "Epoch 45/100\n",
      "3/3 [==============================] - 0s 2ms/step - loss: 0.6407 - accuracy: 0.6267\n",
      "Epoch 46/100\n",
      "3/3 [==============================] - 0s 1ms/step - loss: 0.6394 - accuracy: 0.6400\n",
      "Epoch 47/100\n",
      "3/3 [==============================] - 0s 2ms/step - loss: 0.6381 - accuracy: 0.6400\n",
      "Epoch 48/100\n",
      "3/3 [==============================] - 0s 2ms/step - loss: 0.6368 - accuracy: 0.6400\n",
      "Epoch 49/100\n",
      "3/3 [==============================] - 0s 997us/step - loss: 0.6355 - accuracy: 0.6400\n",
      "Epoch 50/100\n",
      "3/3 [==============================] - 0s 665us/step - loss: 0.6340 - accuracy: 0.6400\n",
      "Epoch 51/100\n",
      "3/3 [==============================] - 0s 2ms/step - loss: 0.6326 - accuracy: 0.6400\n",
      "Epoch 52/100\n",
      "3/3 [==============================] - 0s 665us/step - loss: 0.6312 - accuracy: 0.6400\n",
      "Epoch 53/100\n",
      "3/3 [==============================] - 0s 2ms/step - loss: 0.6297 - accuracy: 0.6400\n",
      "Epoch 54/100\n",
      "3/3 [==============================] - 0s 2ms/step - loss: 0.6278 - accuracy: 0.6400\n",
      "Epoch 55/100\n",
      "3/3 [==============================] - 0s 1ms/step - loss: 0.6259 - accuracy: 0.6533\n",
      "Epoch 56/100\n",
      "3/3 [==============================] - 0s 2ms/step - loss: 0.6236 - accuracy: 0.6533\n",
      "Epoch 57/100\n",
      "3/3 [==============================] - 0s 997us/step - loss: 0.6216 - accuracy: 0.6667\n",
      "Epoch 58/100\n",
      "3/3 [==============================] - 0s 3ms/step - loss: 0.6197 - accuracy: 0.7067\n",
      "Epoch 59/100\n",
      "3/3 [==============================] - 0s 4ms/step - loss: 0.6176 - accuracy: 0.7733\n",
      "Epoch 60/100\n",
      "3/3 [==============================] - 0s 2ms/step - loss: 0.6157 - accuracy: 0.7733\n",
      "Epoch 61/100\n",
      "3/3 [==============================] - 0s 1ms/step - loss: 0.6137 - accuracy: 0.7733\n",
      "Epoch 62/100\n",
      "3/3 [==============================] - 0s 998us/step - loss: 0.6116 - accuracy: 0.7867\n",
      "Epoch 63/100\n",
      "3/3 [==============================] - 0s 2ms/step - loss: 0.6097 - accuracy: 0.7867\n",
      "Epoch 64/100\n",
      "3/3 [==============================] - 0s 2ms/step - loss: 0.6075 - accuracy: 0.8000\n",
      "Epoch 65/100\n",
      "3/3 [==============================] - 0s 2ms/step - loss: 0.6052 - accuracy: 0.8000\n",
      "Epoch 66/100\n",
      "3/3 [==============================] - 0s 3ms/step - loss: 0.6030 - accuracy: 0.8000\n",
      "Epoch 67/100\n",
      "3/3 [==============================] - 0s 997us/step - loss: 0.6006 - accuracy: 0.8133\n",
      "Epoch 68/100\n",
      "3/3 [==============================] - 0s 2ms/step - loss: 0.5981 - accuracy: 0.8133\n",
      "Epoch 69/100\n",
      "3/3 [==============================] - 0s 997us/step - loss: 0.5958 - accuracy: 0.8133\n",
      "Epoch 70/100\n",
      "3/3 [==============================] - 0s 2ms/step - loss: 0.5932 - accuracy: 0.8133\n",
      "Epoch 71/100\n",
      "3/3 [==============================] - 0s 2ms/step - loss: 0.5904 - accuracy: 0.8267\n",
      "Epoch 72/100\n",
      "3/3 [==============================] - 0s 1ms/step - loss: 0.5877 - accuracy: 0.8267\n",
      "Epoch 73/100\n",
      "3/3 [==============================] - 0s 2ms/step - loss: 0.5847 - accuracy: 0.8267\n",
      "Epoch 74/100\n",
      "3/3 [==============================] - 0s 1ms/step - loss: 0.5817 - accuracy: 0.8400\n",
      "Epoch 75/100\n",
      "3/3 [==============================] - 0s 3ms/step - loss: 0.5786 - accuracy: 0.8400\n",
      "Epoch 76/100\n",
      "3/3 [==============================] - 0s 2ms/step - loss: 0.5752 - accuracy: 0.8400\n",
      "Epoch 77/100\n",
      "3/3 [==============================] - 0s 2ms/step - loss: 0.5719 - accuracy: 0.8533\n",
      "Epoch 78/100\n",
      "3/3 [==============================] - 0s 997us/step - loss: 0.5685 - accuracy: 0.8533\n",
      "Epoch 79/100\n",
      "3/3 [==============================] - 0s 997us/step - loss: 0.5650 - accuracy: 0.8533\n",
      "Epoch 80/100\n",
      "3/3 [==============================] - 0s 998us/step - loss: 0.5615 - accuracy: 0.8533\n",
      "Epoch 81/100\n",
      "3/3 [==============================] - 0s 2ms/step - loss: 0.5578 - accuracy: 0.8533\n",
      "Epoch 82/100\n",
      "3/3 [==============================] - 0s 997us/step - loss: 0.5541 - accuracy: 0.8533\n",
      "Epoch 83/100\n",
      "3/3 [==============================] - 0s 2ms/step - loss: 0.5503 - accuracy: 0.8533\n",
      "Epoch 84/100\n",
      "3/3 [==============================] - 0s 2ms/step - loss: 0.5467 - accuracy: 0.8533\n",
      "Epoch 85/100\n",
      "3/3 [==============================] - 0s 1ms/step - loss: 0.5428 - accuracy: 0.8533\n",
      "Epoch 86/100\n",
      "3/3 [==============================] - 0s 2ms/step - loss: 0.5394 - accuracy: 0.8533\n",
      "Epoch 87/100\n",
      "3/3 [==============================] - 0s 997us/step - loss: 0.5355 - accuracy: 0.8533\n",
      "Epoch 88/100\n",
      "3/3 [==============================] - 0s 1ms/step - loss: 0.5319 - accuracy: 0.8533\n",
      "Epoch 89/100\n",
      "3/3 [==============================] - 0s 2ms/step - loss: 0.5284 - accuracy: 0.8533\n",
      "Epoch 90/100\n",
      "3/3 [==============================] - 0s 2ms/step - loss: 0.5247 - accuracy: 0.8533\n",
      "Epoch 91/100\n",
      "3/3 [==============================] - 0s 2ms/step - loss: 0.5212 - accuracy: 0.8667\n",
      "Epoch 92/100\n",
      "3/3 [==============================] - 0s 997us/step - loss: 0.5175 - accuracy: 0.8667\n",
      "Epoch 93/100\n",
      "3/3 [==============================] - 0s 999us/step - loss: 0.5138 - accuracy: 0.8667\n",
      "Epoch 94/100\n",
      "3/3 [==============================] - 0s 2ms/step - loss: 0.5102 - accuracy: 0.8667\n",
      "Epoch 95/100\n",
      "3/3 [==============================] - 0s 1ms/step - loss: 0.5065 - accuracy: 0.8667\n",
      "Epoch 96/100\n",
      "3/3 [==============================] - 0s 998us/step - loss: 0.5027 - accuracy: 0.8667\n",
      "Epoch 97/100\n",
      "3/3 [==============================] - 0s 2ms/step - loss: 0.4990 - accuracy: 0.8667\n",
      "Epoch 98/100\n",
      "3/3 [==============================] - 0s 1ms/step - loss: 0.4950 - accuracy: 0.8667\n",
      "Epoch 99/100\n",
      "3/3 [==============================] - 0s 997us/step - loss: 0.4913 - accuracy: 0.8667\n",
      "Epoch 100/100\n",
      "3/3 [==============================] - 0s 997us/step - loss: 0.4877 - accuracy: 0.8800\n"
     ]
    },
    {
     "data": {
      "text/plain": [
       "<tensorflow.python.keras.callbacks.History at 0x225ec8b28c8>"
      ]
     },
     "execution_count": 27,
     "metadata": {},
     "output_type": "execute_result"
    }
   ],
   "source": [
    "deep_model.compile(optimizer='adam',\n",
    "                   loss='categorical_crossentropy',\n",
    "                   metrics=['accuracy'])\n",
    "\n",
    "deep_model.fit(\n",
    "    X_train_scaled,\n",
    "    y_train_categorical,\n",
    "    epochs=100,\n",
    "    shuffle=True,\n",
    "    verbose=1\n",
    ")"
   ]
  },
  {
   "cell_type": "markdown",
   "metadata": {},
   "source": [
    "# Compare the models below"
   ]
  },
  {
   "cell_type": "code",
   "execution_count": 28,
   "metadata": {},
   "outputs": [
    {
     "name": "stdout",
     "output_type": "stream",
     "text": [
      "1/1 - 0s - loss: 0.6191 - accuracy: 0.6400\n",
      "Normal Neural Network - Loss: 0.6191431879997253, Accuracy: 0.6399999856948853\n"
     ]
    }
   ],
   "source": [
    "model_loss, model_accuracy = model.evaluate(\n",
    "    X_test_scaled, y_test_categorical, verbose=2)\n",
    "print(\n",
    "    f\"Normal Neural Network - Loss: {model_loss}, Accuracy: {model_accuracy}\")"
   ]
  },
  {
   "cell_type": "code",
   "execution_count": 29,
   "metadata": {},
   "outputs": [
    {
     "name": "stdout",
     "output_type": "stream",
     "text": [
      "1/1 - 0s - loss: 0.5262 - accuracy: 0.8800\n",
      "Deep Neural Network - Loss: 0.5262306928634644, Accuracy: 0.8799999952316284\n"
     ]
    }
   ],
   "source": [
    "model_loss, model_accuracy = deep_model.evaluate(\n",
    "    X_test_scaled, y_test_categorical, verbose=2)\n",
    "print(f\"Deep Neural Network - Loss: {model_loss}, Accuracy: {model_accuracy}\")"
   ]
  },
  {
   "cell_type": "markdown",
   "metadata": {},
   "source": [
    "# In a nutshell..."
   ]
  },
  {
   "cell_type": "markdown",
   "metadata": {},
   "source": [
    "![stack more layers](../Images/stack-more-layers.jpg)"
   ]
  }
 ],
 "metadata": {
  "anaconda-cloud": {},
  "kernelspec": {
   "display_name": "Python 3",
   "language": "python",
   "name": "python3"
  },
  "language_info": {
   "codemirror_mode": {
    "name": "ipython",
    "version": 3
   },
   "file_extension": ".py",
   "mimetype": "text/x-python",
   "name": "python",
   "nbconvert_exporter": "python",
   "pygments_lexer": "ipython3",
   "version": "3.7.6"
  },
  "varInspector": {
   "cols": {
    "lenName": 16,
    "lenType": 16,
    "lenVar": 40
   },
   "kernels_config": {
    "python": {
     "delete_cmd_postfix": "",
     "delete_cmd_prefix": "del ",
     "library": "var_list.py",
     "varRefreshCmd": "print(var_dic_list())"
    },
    "r": {
     "delete_cmd_postfix": ") ",
     "delete_cmd_prefix": "rm(",
     "library": "var_list.r",
     "varRefreshCmd": "cat(var_dic_list()) "
    }
   },
   "types_to_exclude": [
    "module",
    "function",
    "builtin_function_or_method",
    "instance",
    "_Feature"
   ],
   "window_display": false
  }
 },
 "nbformat": 4,
 "nbformat_minor": 4
}
